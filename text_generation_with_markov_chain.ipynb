{
  "nbformat": 4,
  "nbformat_minor": 0,
  "metadata": {
    "colab": {
      "provenance": []
    },
    "kernelspec": {
      "name": "python3",
      "display_name": "Python 3"
    },
    "language_info": {
      "name": "python"
    }
  },
  "cells": [
    {
      "cell_type": "code",
      "source": [
        "text_a = open(\"1342-0.txt\").read()\n",
        "text_b = open(\"84-0.txt\").read()"
      ],
      "metadata": {
        "id": "i9RCDLl_0xjw"
      },
      "execution_count": 5,
      "outputs": []
    },
    {
      "cell_type": "code",
      "source": [
        "print(text_a[:200])"
      ],
      "metadata": {
        "colab": {
          "base_uri": "https://localhost:8080/"
        },
        "id": "Aom8ioLT1HYF",
        "outputId": "9981fcf9-d374-4f77-db13-7256cd99c088"
      },
      "execution_count": 6,
      "outputs": [
        {
          "output_type": "stream",
          "name": "stdout",
          "text": [
            "﻿The Project Gutenberg EBook of Pride and Prejudice, by Jane Austen\n",
            "\n",
            "This eBook is for the use of anyone anywhere at no cost and with\n",
            "almost no restrictions whatsoever.  You may copy it, give it away \n"
          ]
        }
      ]
    },
    {
      "cell_type": "code",
      "source": [
        "import random\n",
        "random.sample(text_b, 20)"
      ],
      "metadata": {
        "colab": {
          "base_uri": "https://localhost:8080/"
        },
        "id": "-mFxSZFO1LvO",
        "outputId": "f098b941-97f1-4c73-e0da-d3b4b2695c61"
      },
      "execution_count": 7,
      "outputs": [
        {
          "output_type": "execute_result",
          "data": {
            "text/plain": [
              "[' ',\n",
              " ' ',\n",
              " 'o',\n",
              " 'w',\n",
              " ' ',\n",
              " 'e',\n",
              " 'n',\n",
              " 'd',\n",
              " '.',\n",
              " ' ',\n",
              " 'i',\n",
              " 'r',\n",
              " 'e',\n",
              " 'h',\n",
              " 'h',\n",
              " 'h',\n",
              " ',',\n",
              " '\\n',\n",
              " ',',\n",
              " 'u']"
            ]
          },
          "metadata": {},
          "execution_count": 7
        }
      ]
    },
    {
      "cell_type": "code",
      "source": [
        "a_words = text_a.split()\n",
        "b_words = text_b.split()"
      ],
      "metadata": {
        "id": "MrfV1EuF1SnB"
      },
      "execution_count": 8,
      "outputs": []
    },
    {
      "cell_type": "code",
      "source": [
        "random.sample(a_words, 10)"
      ],
      "metadata": {
        "colab": {
          "base_uri": "https://localhost:8080/"
        },
        "id": "ZGPWdRty1X61",
        "outputId": "5f707f47-ffa2-4240-f81e-21df8ec92291"
      },
      "execution_count": 9,
      "outputs": [
        {
          "output_type": "execute_result",
          "data": {
            "text/plain": [
              "['first',\n",
              " 'I',\n",
              " 'only',\n",
              " 'choose;',\n",
              " 'for',\n",
              " 'I',\n",
              " 'I',\n",
              " 'knowing',\n",
              " 'friend,',\n",
              " 'knew']"
            ]
          },
          "metadata": {},
          "execution_count": 9
        }
      ]
    },
    {
      "cell_type": "code",
      "source": [
        "random.sample(b_words, 10)"
      ],
      "metadata": {
        "colab": {
          "base_uri": "https://localhost:8080/"
        },
        "id": "3L1i9Xk61dIv",
        "outputId": "fa178eb2-0aea-4b18-b67d-6a8878df6087"
      },
      "execution_count": 10,
      "outputs": [
        {
          "output_type": "execute_result",
          "data": {
            "text/plain": [
              "['did',\n",
              " 'a',\n",
              " 'before',\n",
              " 'which',\n",
              " 'Arthur’s',\n",
              " 'paths',\n",
              " 'company',\n",
              " 'sense,',\n",
              " 'The',\n",
              " 'specific']"
            ]
          },
          "metadata": {},
          "execution_count": 10
        }
      ]
    },
    {
      "cell_type": "code",
      "source": [
        "from collections import Counter\n",
        "Counter(text_a).most_common(12)"
      ],
      "metadata": {
        "colab": {
          "base_uri": "https://localhost:8080/"
        },
        "id": "_z93loAq1gz1",
        "outputId": "06f128dc-c743-4d3d-b56f-aa3d044ecd60"
      },
      "execution_count": 11,
      "outputs": [
        {
          "output_type": "execute_result",
          "data": {
            "text/plain": [
              "[(' ', 113941),\n",
              " ('e', 70344),\n",
              " ('t', 47283),\n",
              " ('a', 42156),\n",
              " ('o', 41138),\n",
              " ('n', 38430),\n",
              " ('i', 36273),\n",
              " ('h', 33883),\n",
              " ('r', 33293),\n",
              " ('s', 33292),\n",
              " ('d', 22247),\n",
              " ('l', 21282)]"
            ]
          },
          "metadata": {},
          "execution_count": 11
        }
      ]
    },
    {
      "cell_type": "code",
      "source": [
        "Counter(a_words).most_common(12)"
      ],
      "metadata": {
        "colab": {
          "base_uri": "https://localhost:8080/"
        },
        "id": "Lrzk8p7B1pvz",
        "outputId": "0f6d2c5b-b616-41c4-8e2a-02a3d10c0d41"
      },
      "execution_count": 12,
      "outputs": [
        {
          "output_type": "execute_result",
          "data": {
            "text/plain": [
              "[('the', 4205),\n",
              " ('to', 4121),\n",
              " ('of', 3662),\n",
              " ('and', 3309),\n",
              " ('a', 1945),\n",
              " ('her', 1858),\n",
              " ('in', 1813),\n",
              " ('was', 1795),\n",
              " ('I', 1740),\n",
              " ('that', 1419),\n",
              " ('not', 1356),\n",
              " ('she', 1306)]"
            ]
          },
          "metadata": {},
          "execution_count": 12
        }
      ]
    },
    {
      "cell_type": "code",
      "source": [
        "Counter(b_words).most_common(12)"
      ],
      "metadata": {
        "colab": {
          "base_uri": "https://localhost:8080/"
        },
        "id": "x4yPoV841tln",
        "outputId": "2a12b22d-a2b7-48cd-ab69-8e8bfadae4e7"
      },
      "execution_count": 13,
      "outputs": [
        {
          "output_type": "execute_result",
          "data": {
            "text/plain": [
              "[('the', 4056),\n",
              " ('and', 2971),\n",
              " ('of', 2741),\n",
              " ('I', 2719),\n",
              " ('to', 2142),\n",
              " ('my', 1631),\n",
              " ('a', 1394),\n",
              " ('in', 1125),\n",
              " ('was', 993),\n",
              " ('that', 987),\n",
              " ('with', 700),\n",
              " ('had', 679)]"
            ]
          },
          "metadata": {},
          "execution_count": 13
        }
      ]
    },
    {
      "cell_type": "code",
      "source": [
        "import sys\n",
        "!{sys.executable} -m pip install markovify"
      ],
      "metadata": {
        "colab": {
          "base_uri": "https://localhost:8080/"
        },
        "id": "KjYLc8Vq11Kv",
        "outputId": "ba83568c-27ca-43a8-86ca-030b326927a3"
      },
      "execution_count": 14,
      "outputs": [
        {
          "output_type": "stream",
          "name": "stdout",
          "text": [
            "Collecting markovify\n",
            "  Downloading markovify-0.9.4.tar.gz (27 kB)\n",
            "  Preparing metadata (setup.py) ... \u001b[?25l\u001b[?25hdone\n",
            "Collecting unidecode (from markovify)\n",
            "  Downloading Unidecode-1.3.8-py3-none-any.whl.metadata (13 kB)\n",
            "Downloading Unidecode-1.3.8-py3-none-any.whl (235 kB)\n",
            "\u001b[2K   \u001b[90m━━━━━━━━━━━━━━━━━━━━━━━━━━━━━━━━━━━━━━━━\u001b[0m \u001b[32m235.5/235.5 kB\u001b[0m \u001b[31m2.8 MB/s\u001b[0m eta \u001b[36m0:00:00\u001b[0m\n",
            "\u001b[?25hBuilding wheels for collected packages: markovify\n",
            "  Building wheel for markovify (setup.py) ... \u001b[?25l\u001b[?25hdone\n",
            "  Created wheel for markovify: filename=markovify-0.9.4-py3-none-any.whl size=18605 sha256=617c651682868515ce5eab09351f72244369817d31638977c224769bb87f5110\n",
            "  Stored in directory: /root/.cache/pip/wheels/ca/8c/c5/41413e24c484f883a100c63ca7b3b0362b7c6f6eb6d7c9cc7f\n",
            "Successfully built markovify\n",
            "Installing collected packages: unidecode, markovify\n",
            "Successfully installed markovify-0.9.4 unidecode-1.3.8\n"
          ]
        }
      ]
    },
    {
      "cell_type": "code",
      "source": [
        "import markovify"
      ],
      "metadata": {
        "id": "VL6qKng32CZ1"
      },
      "execution_count": 15,
      "outputs": []
    },
    {
      "cell_type": "code",
      "source": [
        "generator_a = markovify.Text(text_a)"
      ],
      "metadata": {
        "id": "ep-edmOy2FQd"
      },
      "execution_count": 16,
      "outputs": []
    },
    {
      "cell_type": "code",
      "source": [
        "print(generator_a.make_sentence())"
      ],
      "metadata": {
        "colab": {
          "base_uri": "https://localhost:8080/"
        },
        "id": "tGmo1IHv2H_F",
        "outputId": "3b7e3bed-46fb-4d4c-aa31-2d0effc2bdcb"
      },
      "execution_count": 17,
      "outputs": [
        {
          "output_type": "stream",
          "name": "stdout",
          "text": [
            "Mr. Collins made his affection might be as happy as Jane.\n"
          ]
        }
      ]
    },
    {
      "cell_type": "code",
      "source": [
        "print(generator_a.make_short_sentence(50))"
      ],
      "metadata": {
        "colab": {
          "base_uri": "https://localhost:8080/"
        },
        "id": "epG5JMEI2KTE",
        "outputId": "de12aab1-bfe9-4718-dd98-2e59f557eb65"
      },
      "execution_count": 18,
      "outputs": [
        {
          "output_type": "stream",
          "name": "stdout",
          "text": [
            "In her own fortune.\n"
          ]
        }
      ]
    },
    {
      "cell_type": "code",
      "source": [
        "print(generator_a.make_short_sentence(40, tries=100))"
      ],
      "metadata": {
        "colab": {
          "base_uri": "https://localhost:8080/"
        },
        "id": "4y8Adzd52PKu",
        "outputId": "744877d5-727a-46ff-96b0-7350429118a0"
      },
      "execution_count": 19,
      "outputs": [
        {
          "output_type": "stream",
          "name": "stdout",
          "text": [
            "They had nothing to us.\n"
          ]
        }
      ]
    },
    {
      "cell_type": "code",
      "source": [
        "print(generator_a.make_short_sentence(40, test_output=False))"
      ],
      "metadata": {
        "colab": {
          "base_uri": "https://localhost:8080/"
        },
        "id": "cjJ57CFa2UX4",
        "outputId": "8d6a0311-598a-4f96-bfc8-b208ce600e96"
      },
      "execution_count": 20,
      "outputs": [
        {
          "output_type": "stream",
          "name": "stdout",
          "text": [
            "None\n"
          ]
        }
      ]
    },
    {
      "cell_type": "code",
      "source": [
        "gen_a_1 = markovify.Text(text_a, state_size=1)\n",
        "gen_a_4 = markovify.Text(text_a, state_size=4)"
      ],
      "metadata": {
        "id": "A3u41XjY2X5B"
      },
      "execution_count": 21,
      "outputs": []
    },
    {
      "cell_type": "code",
      "source": [
        "print(\"order 1\")\n",
        "print(gen_a_1.make_sentence(test_output=False))\n",
        "print()\n",
        "print(\"order 4\")\n",
        "print(gen_a_4.make_sentence(test_output=False))"
      ],
      "metadata": {
        "colab": {
          "base_uri": "https://localhost:8080/"
        },
        "id": "jEHmXIKN2Zcj",
        "outputId": "b4463174-6e91-4c57-a58c-f20f4c0354c2"
      },
      "execution_count": 22,
      "outputs": [
        {
          "output_type": "stream",
          "name": "stdout",
          "text": [
            "order 1\n",
            "I had seldom been gone to make inquiries the happy, and her illness was now put in Rosings parties, and were imperfectly understood, it with Mr. Collins returned into silence; and the family weakness, such and Lydia only, entered the turnpike-road.\n",
            "\n",
            "order 4\n",
            "Her heart had been but slightly touched, and her vanity was satisfied with believing that _she_ would have been his only choice, had fortune permitted it.\n"
          ]
        }
      ]
    },
    {
      "cell_type": "code",
      "source": [
        "class SentencesByChar(markovify.Text):\n",
        "    def word_split(self, sentence):\n",
        "        return list(sentence)\n",
        "    def word_join(self, words):\n",
        "        return \"\".join(words)"
      ],
      "metadata": {
        "id": "xNdnry3-2gos"
      },
      "execution_count": 23,
      "outputs": []
    },
    {
      "cell_type": "code",
      "source": [
        "con_model = SentencesByChar(\"condescendences\", state_size=2)"
      ],
      "metadata": {
        "id": "mmmxj5D62jsP"
      },
      "execution_count": 24,
      "outputs": []
    },
    {
      "cell_type": "code",
      "source": [
        "con_model.make_sentence()"
      ],
      "metadata": {
        "colab": {
          "base_uri": "https://localhost:8080/",
          "height": 35
        },
        "id": "TyC1bd-x2mTY",
        "outputId": "e02ce80d-ce0d-4347-bd1c-a387ba76f35b"
      },
      "execution_count": 25,
      "outputs": [
        {
          "output_type": "execute_result",
          "data": {
            "text/plain": [
              "'condescescendes'"
            ],
            "application/vnd.google.colaboratory.intrinsic+json": {
              "type": "string"
            }
          },
          "metadata": {},
          "execution_count": 25
        }
      ]
    },
    {
      "cell_type": "code",
      "source": [
        "gen_a_char = SentencesByChar(text_a, state_size=7)"
      ],
      "metadata": {
        "id": "wNPgx6kA2r28"
      },
      "execution_count": 26,
      "outputs": []
    },
    {
      "cell_type": "code",
      "source": [
        "print(gen_a_char.make_sentence(test_output=False).replace(\"\\n\", \" \"))"
      ],
      "metadata": {
        "colab": {
          "base_uri": "https://localhost:8080/"
        },
        "id": "BD2NOTZZ2wjT",
        "outputId": "c9b53db0-ade6-4a26-b7e8-339d28485fa1"
      },
      "execution_count": 27,
      "outputs": [
        {
          "output_type": "stream",
          "name": "stdout",
          "text": [
            "The mischief of his fine talking or of listen.\n"
          ]
        }
      ]
    },
    {
      "cell_type": "code",
      "source": [
        "generator_a = markovify.Text(text_a)\n",
        "generator_b = markovify.Text(text_b)\n",
        "combo = markovify.combine([generator_a, generator_b], [0.5, 0.5])"
      ],
      "metadata": {
        "id": "_IxQws2Z21Dj"
      },
      "execution_count": 28,
      "outputs": []
    },
    {
      "cell_type": "code",
      "source": [
        "print(combo.make_sentence())"
      ],
      "metadata": {
        "colab": {
          "base_uri": "https://localhost:8080/"
        },
        "id": "u3BofkK_25fM",
        "outputId": "b9868455-3b15-49af-d0c8-baf4efa3a332"
      },
      "execution_count": 29,
      "outputs": [
        {
          "output_type": "stream",
          "name": "stdout",
          "text": [
            "Where had they not been accustomed to see how continually we are sincerely grateful.\n"
          ]
        }
      ]
    },
    {
      "cell_type": "code",
      "source": [
        "# change to \"word\" for a word-level model\n",
        "level = \"char\"\n",
        "# controls the length of the n-gram\n",
        "order = 7\n",
        "# controls the number of lines to output\n",
        "output_n = 14\n",
        "# weights between the models; text A first, text B second.\n",
        "# if you want to completely exclude one model, set its corresponding value to 0\n",
        "weights = [0.5, 0.5]\n",
        "# limit sentence output to this number of characters\n",
        "length_limit = 280"
      ],
      "metadata": {
        "id": "LcCCvo9o3CIV"
      },
      "execution_count": 30,
      "outputs": []
    },
    {
      "cell_type": "code",
      "source": [
        "model_cls = markovify.Text if level == \"word\" else SentencesByChar\n",
        "gen_a = model_cls(text_a, state_size=order)\n",
        "gen_b = model_cls(text_b, state_size=order)\n",
        "gen_combo = markovify.combine([gen_a, gen_b], weights)\n",
        "for i in range(output_n):\n",
        "    out = gen_combo.make_short_sentence(length_limit, test_output=False)\n",
        "    out = out.replace(\"\\n\", \" \")\n",
        "    print(out)\n",
        "    print()"
      ],
      "metadata": {
        "colab": {
          "base_uri": "https://localhost:8080/"
        },
        "id": "77KeDBbJ3EZq",
        "outputId": "a6092144-af07-4e0a-8827-1c80a512e357"
      },
      "execution_count": 31,
      "outputs": [
        {
          "output_type": "stream",
          "name": "stdout",
          "text": [
            "Miss Darcy, drawn when you had been irksome to Netherfield by the ensuing week commencement of violence quickly gave way to him as a something through the silent.\n",
            "\n",
            "I only wonders of their carriage, and her of talking with mockery of that progress in any shape.\n",
            "\n",
            "Your dear childish serious voyage I saw at the library, as usual.\n",
            "\n",
            "Yet when thousand nameless as possible.\n",
            "\n",
            "Whenever Miss de Bourgh, and seemed quite as much as they were, by carrying in her head on his affection was again silence was destroyer to directed towards the anticipated what I endured on the business to her.\n",
            "\n",
            "Every thing was to occupy me which arise and guided the foot of manner which was walking such a risk.\n",
            "\n",
            "How strange system of human for _me_--it cannot reflection.\n",
            "\n",
            "And then lying down from Werter_, besides, I had there proved so rapidly increasing.\n",
            "\n",
            "She burst uncontrollable was a little, except that the sacrifice, and Darcy, who called home, grief of this one the village.\n",
            "\n",
            "Had she feared the chief of its truth.\n",
            "\n",
            "It was given her for nearly a hundred miles decked the honour you have his daughters; and the task of you; and, in my opinion.\n",
            "\n",
            "His plans were arrived at Mainz.\n",
            "\n",
            "You shall not void the Foundation's EIN or federal laws and donations.\n",
            "\n",
            "The old man and want, Felix came up.\n",
            "\n"
          ]
        }
      ]
    },
    {
      "cell_type": "code",
      "source": [
        "sonnets_text = open(\"sonnets.txt\").read()\n",
        "sonnets_model = markovify.NewlineText(sonnets_text, state_size=1)"
      ],
      "metadata": {
        "id": "SKvb0pzI3LUt"
      },
      "execution_count": 33,
      "outputs": []
    },
    {
      "cell_type": "code",
      "source": [
        "sonnets_model.make_sentence()"
      ],
      "metadata": {
        "colab": {
          "base_uri": "https://localhost:8080/",
          "height": 35
        },
        "id": "KCrk59G6363-",
        "outputId": "04c3efa2-79b2-44eb-bbf8-9078c7bc4f8e"
      },
      "execution_count": 34,
      "outputs": [
        {
          "output_type": "execute_result",
          "data": {
            "text/plain": [
              "'That you were brass eternal lines of worms, my outcast state,'"
            ],
            "application/vnd.google.colaboratory.intrinsic+json": {
              "type": "string"
            }
          },
          "metadata": {},
          "execution_count": 34
        }
      ]
    },
    {
      "cell_type": "code",
      "source": [
        "for i in range(14):\n",
        "    print(sonnets_model.make_sentence())"
      ],
      "metadata": {
        "colab": {
          "base_uri": "https://localhost:8080/"
        },
        "id": "WCcIbkVl4FYY",
        "outputId": "310621a3-003a-4b23-b0b6-ad2d57d8f34d"
      },
      "execution_count": 35,
      "outputs": [
        {
          "output_type": "stream",
          "name": "stdout",
          "text": [
            "Me for their pride lies in effect.\n",
            "So thou art enforced to time and thine alone:\n",
            "From where two alone had not be blessed made another youth,\n",
            "To follow night,\n",
            "And my verse shall besiege all thy babe from heat perpetual,\n",
            "To speak ill well esteem'd,\n",
            "Hath dear friend,\n",
            "And yet doth thee lie!\n",
            "Makes summer's flower is youth in me in posterity?\n",
            "Ay, fill it was:\n",
            "But if you doth live, remember'd not every tongue that I have been mine compare thou keep'st me in thy love even in growth\n",
            "But when thou prevent'st his beauty must attend, time's waste:\n",
            "The worst of good;\n",
            "And beauty still,\n"
          ]
        }
      ]
    },
    {
      "cell_type": "code",
      "source": [
        "class LinesByChar(markovify.NewlineText):\n",
        "    def word_split(self, sentence):\n",
        "        return list(sentence)\n",
        "    def word_join(self, words):\n",
        "        return \"\".join(words)"
      ],
      "metadata": {
        "id": "vHSpBmRU4IG4"
      },
      "execution_count": 36,
      "outputs": []
    },
    {
      "cell_type": "code",
      "source": [
        "sonnets_char_model = LinesByChar(sonnets_text, state_size=4)"
      ],
      "metadata": {
        "id": "lvDscPsi4Lt7"
      },
      "execution_count": 37,
      "outputs": []
    },
    {
      "cell_type": "code",
      "source": [
        "for i in range(14):\n",
        "    print(sonnets_char_model.make_sentence())"
      ],
      "metadata": {
        "colab": {
          "base_uri": "https://localhost:8080/"
        },
        "id": "qL07eIA64P61",
        "outputId": "c7f01098-cbb7-4f0c-bfb4-ba697ab5bddd"
      },
      "execution_count": 38,
      "outputs": [
        {
          "output_type": "stream",
          "name": "stdout",
          "text": [
            "For the freshers self is love seal, and at go winted n:motion fits,\n",
            "And put flowers groan\n",
            "The rondur'd in the roses:\n",
            "Kissing, or we debarren othere; beauty beauty's new,\n",
            "How can see;\n",
            "A tormer ince I born, thee\n",
            "Which part, tired may by means them so.\n",
            "And the face thou do shall their virtuous shows, in by Time's sweetest is my broils roses from thee I creat boy foe, whose book.\n",
            "When in they dost same\n",
            "To maketh flies the life's becompil'd;\n",
            "Incertain othere brand,\n",
            "For that her husband do show I frailties brow\n",
            "All the bless, he till,\n",
            "And warrant, yet thing world-with thee.\n"
          ]
        }
      ]
    },
    {
      "cell_type": "code",
      "source": [
        "import json\n",
        "mood_data = json.loads(open(\"./moods.json\").read())\n",
        "moods = mood_data['moods']"
      ],
      "metadata": {
        "id": "SeHmMA1K4TiN"
      },
      "execution_count": 42,
      "outputs": []
    },
    {
      "cell_type": "code",
      "source": [
        "moods_text = \"\\n\".join(moods)"
      ],
      "metadata": {
        "id": "95tEZDHb4wb0"
      },
      "execution_count": 46,
      "outputs": []
    },
    {
      "cell_type": "code",
      "source": [
        "moods_char_model = LinesByChar(moods_text, state_size=3)"
      ],
      "metadata": {
        "id": "mvWzbNdW5At5"
      },
      "execution_count": 47,
      "outputs": []
    },
    {
      "cell_type": "code",
      "source": [
        "for i in range(24):\n",
        "    print(moods_char_model.make_sentence())"
      ],
      "metadata": {
        "colab": {
          "base_uri": "https://localhost:8080/"
        },
        "id": "rPh0rP3C5GkJ",
        "outputId": "04645779-ad73-46a0-d864-cb0cfea6a68a"
      },
      "execution_count": 48,
      "outputs": [
        {
          "output_type": "stream",
          "name": "stdout",
          "text": [
            "degreated\n",
            "loned\n",
            "sered\n",
            "latented\n",
            "thrillustrescensive\n",
            "helpletented\n",
            "modestreated\n",
            "didal\n",
            "unrealoof\n",
            "smotive\n",
            "tractful\n",
            "tearded\n",
            "submisseductant\n",
            "strol\n",
            "self-desistiled\n",
            "burdented\n",
            "inhibitten\n",
            "scardoned\n",
            "iderisky\n",
            "hight\n",
            "neurotected\n",
            "exhauntimagitable\n",
            "None\n",
            "cured\n"
          ]
        }
      ]
    }
  ]
}